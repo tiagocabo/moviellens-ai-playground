{
 "cells": [
  {
   "cell_type": "code",
   "execution_count": 2,
   "id": "29e7426a",
   "metadata": {},
   "outputs": [],
   "source": [
    "import pickle\n",
    "\n",
    "import numpy as np\n",
    "from rank_bm25 import BM25Okapi\n",
    "\n",
    "from movielens_ai_playground.io.read_data import read_movies_data"
   ]
  },
  {
   "cell_type": "code",
   "execution_count": 5,
   "id": "5cfb6d61",
   "metadata": {},
   "outputs": [],
   "source": [
    "MOVIES_PATH = \"../data/movielens-100k/u.item\"\n",
    "movies_df = read_movies_data(path=MOVIES_PATH)"
   ]
  },
  {
   "cell_type": "code",
   "execution_count": 6,
   "id": "cef00a9f-fec2-4888-b9f0-77ca6c255a6f",
   "metadata": {},
   "outputs": [
    {
     "name": "stdout",
     "output_type": "stream",
     "text": [
      "Start building bm25 with titles\n"
     ]
    }
   ],
   "source": [
    "print(\"Start building bm25 with titles\")\n",
    "bm25_title = BM25Okapi(movies_df.title)"
   ]
  },
  {
   "cell_type": "code",
   "execution_count": null,
   "id": "ff0386f3-109f-4f39-a589-47c085ea9bc4",
   "metadata": {},
   "outputs": [],
   "source": []
  }
 ],
 "metadata": {
  "kernelspec": {
   "display_name": "Python 3 (ipykernel)",
   "language": "python",
   "name": "python3"
  },
  "language_info": {
   "codemirror_mode": {
    "name": "ipython",
    "version": 3
   },
   "file_extension": ".py",
   "mimetype": "text/x-python",
   "name": "python",
   "nbconvert_exporter": "python",
   "pygments_lexer": "ipython3",
   "version": "3.11.4"
  }
 },
 "nbformat": 4,
 "nbformat_minor": 5
}
